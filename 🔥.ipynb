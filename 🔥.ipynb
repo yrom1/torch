{
 "cells": [
  {
   "cell_type": "code",
   "execution_count": 10,
   "id": "4bd4e841",
   "metadata": {},
   "outputs": [],
   "source": [
    "import torch"
   ]
  },
  {
   "cell_type": "code",
   "execution_count": 11,
   "id": "35ea60cc",
   "metadata": {},
   "outputs": [
    {
     "data": {
      "text/plain": [
       "'2.0.0'"
      ]
     },
     "execution_count": 11,
     "metadata": {},
     "output_type": "execute_result"
    }
   ],
   "source": [
    "torch.__version__"
   ]
  },
  {
   "cell_type": "code",
   "execution_count": 12,
   "id": "60f71b50",
   "metadata": {
    "scrolled": true
   },
   "outputs": [
    {
     "data": {
      "text/plain": [
       "'3.10.8 (main, Nov 30 2022, 20:34:09) [Clang 14.0.0 (clang-1400.0.29.202)]'"
      ]
     },
     "execution_count": 12,
     "metadata": {},
     "output_type": "execute_result"
    }
   ],
   "source": [
    "from sys import version\n",
    "version"
   ]
  },
  {
   "cell_type": "code",
   "execution_count": 13,
   "id": "5da97497",
   "metadata": {},
   "outputs": [
    {
     "name": "stdout",
     "output_type": "stream",
     "text": [
      "tensor([[ 0.5300,  0.0045, -0.4208, -0.3398, -0.3691],\n",
      "        [-0.9465, -0.7067, -1.7826,  0.4655, -0.2431]])\n",
      "tensor([-0.9465, -0.7067, -1.7826,  0.4655, -0.2431])\n",
      "tensor([[ 0.5300,  0.0045, -0.4208, -0.3398, -0.3691],\n",
      "        [ 0.5300,  0.0045, -0.4208, -0.3398, -0.3691],\n",
      "        [-0.9465, -0.7067, -1.7826,  0.4655, -0.2431]])\n",
      "tensor([[ 0.5300,  0.0045, -0.4208, -0.3398, -0.3691],\n",
      "        [-0.9465, -0.7067, -1.7826,  0.4655, -0.2431],\n",
      "        [-0.9465, -0.7067, -1.7826,  0.4655, -0.2431]])\n"
     ]
    }
   ],
   "source": [
    "# INDEXING WITH LISTS\n",
    "t = torch.randn((2,5))\n",
    "print(t)\n",
    "print(t[1])\n",
    "print(t[[0,0,1]])\n",
    "\n",
    "# INDEXING WITH TENSORS\n",
    "print(t[torch.tensor([0,1,1])])"
   ]
  },
  {
   "cell_type": "code",
   "execution_count": 14,
   "id": "70467826",
   "metadata": {},
   "outputs": [
    {
     "name": "stdout",
     "output_type": "stream",
     "text": [
      "x:\n",
      " tensor([[ 0,  1,  2,  3],\n",
      "        [ 4,  5,  6,  7],\n",
      "        [ 8,  9, 10, 11]])\n",
      "y:\n",
      " tensor([[0, 2],\n",
      "        [1, 1],\n",
      "        [2, 0]])\n",
      "indexes:\n",
      " tensor([0, 1, 2]) tensor([2, 1, 0])\n",
      "result:\n",
      " tensor([2, 5, 8])\n"
     ]
    }
   ],
   "source": [
    "# INDEXING WITH TENSORS IN MULTIPLE DIMENSIONS\n",
    "# https://youtu.be/TCH_1BHY58I?t=1028\n",
    "x = torch.arange(12).reshape(3, 4)\n",
    "print(\"x:\\n\", x)\n",
    "\n",
    "y = torch.tensor([[0, 2], [1, 1], [2, 0]])\n",
    "print(\"y:\\n\", y)\n",
    "\n",
    "print(\"indexes:\\n\", y[:, 0], y[:, 1])\n",
    "result = x[y[:, 0], y[:, 1]]\n",
    "print(\"result:\\n\", result) # do you see it?"
   ]
  },
  {
   "cell_type": "code",
   "execution_count": 15,
   "id": "35ae5052",
   "metadata": {
    "scrolled": true
   },
   "outputs": [
    {
     "data": {
      "text/plain": [
       "(torch.Size([27, 2]), torch.Size([32, 3]), torch.Size([32, 3, 2]))"
      ]
     },
     "execution_count": 15,
     "metadata": {},
     "output_type": "execute_result"
    }
   ],
   "source": [
    "# more fun example from karpathy\n",
    "C = torch.randn((27,2))\n",
    "X = torch.arange(32*3).reshape((32,3)) % 27 # thank you chatgpt for the % 27\n",
    "C.shape, X.shape, C[X].shape\n",
    "# if you understand this, you can explain why the % 27 is needed"
   ]
  },
  {
   "cell_type": "code",
   "execution_count": 16,
   "id": "a7ad5103",
   "metadata": {},
   "outputs": [
    {
     "data": {
      "text/plain": [
       "(tensor([[-0.3039, -0.1171,  1.2122],\n",
       "         [-0.3062,  1.6588,  1.5145]]),\n",
       " tensor([[ 0,  1,  2,  3],\n",
       "         [ 4,  5,  6,  7],\n",
       "         [ 8,  9, 10, 11],\n",
       "         [ 0,  1,  2,  3],\n",
       "         [ 4,  5,  6,  7],\n",
       "         [ 8,  9, 10, 11]]),\n",
       " tensor([[ 0,  1,  2,  3,  0,  1,  2,  3],\n",
       "         [ 4,  5,  6,  7,  4,  5,  6,  7],\n",
       "         [ 8,  9, 10, 11,  8,  9, 10, 11]]))"
      ]
     },
     "execution_count": 16,
     "metadata": {},
     "output_type": "execute_result"
    }
   ],
   "source": [
    "# CONCATENATE\n",
    "X = torch.randn((2,3))\n",
    "X, torch.cat((x, x), 0), torch.cat((x, x), 1)"
   ]
  },
  {
   "cell_type": "code",
   "execution_count": 17,
   "id": "ae28b843",
   "metadata": {},
   "outputs": [
    {
     "data": {
      "text/plain": [
       "(tensor([[0, 1, 2],\n",
       "         [3, 4, 5]]),\n",
       " (tensor([0, 1, 2]), tensor([3, 4, 5])),\n",
       " (tensor([0, 3]), tensor([1, 4]), tensor([2, 5])))"
      ]
     },
     "execution_count": 17,
     "metadata": {},
     "output_type": "execute_result"
    }
   ],
   "source": [
    "# UNBIND\n",
    "t = torch.arange(6).reshape((2,3))\n",
    "t2 = torch.arange(12).reshape((2,3,2))\n",
    "t, t.unbind(), t.unbind(1)"
   ]
  },
  {
   "cell_type": "code",
   "execution_count": 18,
   "id": "3def70aa",
   "metadata": {},
   "outputs": [
    {
     "data": {
      "text/plain": [
       "(tensor([[[ 0,  1],\n",
       "          [ 2,  3],\n",
       "          [ 4,  5]],\n",
       " \n",
       "         [[ 6,  7],\n",
       "          [ 8,  9],\n",
       "          [10, 11]]]),\n",
       " (tensor([[0, 1],\n",
       "          [2, 3],\n",
       "          [4, 5]]),\n",
       "  tensor([[ 6,  7],\n",
       "          [ 8,  9],\n",
       "          [10, 11]])))"
      ]
     },
     "execution_count": 18,
     "metadata": {},
     "output_type": "execute_result"
    }
   ],
   "source": [
    "t2, t2.unbind()"
   ]
  }
 ],
 "metadata": {
  "kernelspec": {
   "display_name": "Python 3 (ipykernel)",
   "language": "python",
   "name": "python3"
  },
  "language_info": {
   "codemirror_mode": {
    "name": "ipython",
    "version": 3
   },
   "file_extension": ".py",
   "mimetype": "text/x-python",
   "name": "python",
   "nbconvert_exporter": "python",
   "pygments_lexer": "ipython3",
   "version": "3.10.8"
  }
 },
 "nbformat": 4,
 "nbformat_minor": 5
}
