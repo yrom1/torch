{
 "cells": [
  {
   "cell_type": "code",
   "execution_count": 1,
   "id": "4bd4e841",
   "metadata": {
    "execution": {
     "iopub.execute_input": "2023-03-26T05:39:10.490556Z",
     "iopub.status.busy": "2023-03-26T05:39:10.490190Z",
     "iopub.status.idle": "2023-03-26T05:39:11.559712Z",
     "shell.execute_reply": "2023-03-26T05:39:11.559467Z"
    }
   },
   "outputs": [
    {
     "data": {
      "text/plain": [
       "('3.10.10 (main, Feb 16 2023, 02:49:39) [Clang 14.0.0 (clang-1400.0.29.202)]',\n",
       " '1.13.0')"
      ]
     },
     "execution_count": 1,
     "metadata": {},
     "output_type": "execute_result"
    }
   ],
   "source": [
    "## VERSION\n",
    "from sys import version\n",
    "import torch\n",
    "torch.manual_seed(42)\n",
    "version, torch.__version__"
   ]
  },
  {
   "cell_type": "code",
   "execution_count": 2,
   "id": "5da97497",
   "metadata": {
    "execution": {
     "iopub.execute_input": "2023-03-26T05:39:11.561090Z",
     "iopub.status.busy": "2023-03-26T05:39:11.561014Z",
     "iopub.status.idle": "2023-03-26T05:39:11.588034Z",
     "shell.execute_reply": "2023-03-26T05:39:11.587836Z"
    }
   },
   "outputs": [
    {
     "data": {
      "text/plain": [
       "(tensor([[ 0.3367,  0.1288,  0.2345,  0.2303, -1.1229],\n",
       "         [-0.1863,  2.2082, -0.6380,  0.4617,  0.2674]]),\n",
       " tensor([-0.1863,  2.2082, -0.6380,  0.4617,  0.2674]),\n",
       " tensor([[ 0.3367,  0.1288,  0.2345,  0.2303, -1.1229],\n",
       "         [ 0.3367,  0.1288,  0.2345,  0.2303, -1.1229],\n",
       "         [-0.1863,  2.2082, -0.6380,  0.4617,  0.2674]]),\n",
       " tensor([[ 0.3367,  0.1288,  0.2345,  0.2303, -1.1229],\n",
       "         [-0.1863,  2.2082, -0.6380,  0.4617,  0.2674],\n",
       "         [-0.1863,  2.2082, -0.6380,  0.4617,  0.2674]]))"
      ]
     },
     "execution_count": 2,
     "metadata": {},
     "output_type": "execute_result"
    }
   ],
   "source": [
    "# INDEXING WITH LISTS & TENSORS IN ONE DIMENSION\n",
    "t = torch.randn((2,5))\n",
    "t, t[1], t[[0,0,1]], t[torch.tensor([0,1,1])]"
   ]
  },
  {
   "cell_type": "code",
   "execution_count": 3,
   "id": "70467826",
   "metadata": {
    "execution": {
     "iopub.execute_input": "2023-03-26T05:39:11.589251Z",
     "iopub.status.busy": "2023-03-26T05:39:11.589185Z",
     "iopub.status.idle": "2023-03-26T05:39:11.593301Z",
     "shell.execute_reply": "2023-03-26T05:39:11.593101Z"
    }
   },
   "outputs": [
    {
     "data": {
      "text/plain": [
       "(tensor([[ 0,  1,  2,  3],\n",
       "         [ 4,  5,  6,  7],\n",
       "         [ 8,  9, 10, 11]]),\n",
       " tensor([[0, 2],\n",
       "         [1, 1],\n",
       "         [2, 0]]),\n",
       " tensor([0, 1, 2]),\n",
       " tensor([2, 1, 0]),\n",
       " tensor([2, 5, 8]))"
      ]
     },
     "execution_count": 3,
     "metadata": {},
     "output_type": "execute_result"
    }
   ],
   "source": [
    "# INDEXING WITH TENSORS IN MULTIPLE DIMENSIONS\n",
    "x = torch.arange(12).reshape(3, 4)\n",
    "y = torch.tensor([[0, 2], [1, 1], [2, 0]])\n",
    "x, y, y[:, 0], y[:, 1], x[y[:, 0], y[:, 1]]  # do you see it for the last one?"
   ]
  },
  {
   "cell_type": "code",
   "execution_count": 4,
   "id": "35ae5052",
   "metadata": {
    "execution": {
     "iopub.execute_input": "2023-03-26T05:39:11.594462Z",
     "iopub.status.busy": "2023-03-26T05:39:11.594396Z",
     "iopub.status.idle": "2023-03-26T05:39:11.597204Z",
     "shell.execute_reply": "2023-03-26T05:39:11.597023Z"
    },
    "scrolled": true
   },
   "outputs": [
    {
     "data": {
      "text/plain": [
       "(torch.Size([27, 2]), torch.Size([32, 3]), torch.Size([32, 3, 2]))"
      ]
     },
     "execution_count": 4,
     "metadata": {},
     "output_type": "execute_result"
    }
   ],
   "source": [
    "# more fun example from karpathy https://youtu.be/TCH_1BHY58I?t=1028\n",
    "C = torch.randn((27,2))\n",
    "X = torch.arange(32*3).reshape((32,3)) % 27\n",
    "C.shape, X.shape, C[X].shape\n",
    "# if you understand this, you can explain why the % 27 is needed"
   ]
  },
  {
   "cell_type": "code",
   "execution_count": 5,
   "id": "a7ad5103",
   "metadata": {
    "execution": {
     "iopub.execute_input": "2023-03-26T05:39:11.598342Z",
     "iopub.status.busy": "2023-03-26T05:39:11.598279Z",
     "iopub.status.idle": "2023-03-26T05:39:11.601928Z",
     "shell.execute_reply": "2023-03-26T05:39:11.601746Z"
    }
   },
   "outputs": [
    {
     "data": {
      "text/plain": [
       "(tensor([[ 0.5568, -0.8123,  1.1964],\n",
       "         [ 0.8613, -1.3682, -0.7740]]),\n",
       " tensor([[ 0,  1,  2,  3],\n",
       "         [ 4,  5,  6,  7],\n",
       "         [ 8,  9, 10, 11],\n",
       "         [ 0,  1,  2,  3],\n",
       "         [ 4,  5,  6,  7],\n",
       "         [ 8,  9, 10, 11]]),\n",
       " tensor([[ 0,  1,  2,  3,  0,  1,  2,  3],\n",
       "         [ 4,  5,  6,  7,  4,  5,  6,  7],\n",
       "         [ 8,  9, 10, 11,  8,  9, 10, 11]]))"
      ]
     },
     "execution_count": 5,
     "metadata": {},
     "output_type": "execute_result"
    }
   ],
   "source": [
    "# CONCATENATE\n",
    "X = torch.randn((2,3))\n",
    "X, torch.cat((x, x), 0), torch.cat((x, x), 1)"
   ]
  },
  {
   "cell_type": "code",
   "execution_count": 6,
   "id": "ae28b843",
   "metadata": {
    "execution": {
     "iopub.execute_input": "2023-03-26T05:39:11.603062Z",
     "iopub.status.busy": "2023-03-26T05:39:11.602998Z",
     "iopub.status.idle": "2023-03-26T05:39:11.605381Z",
     "shell.execute_reply": "2023-03-26T05:39:11.605192Z"
    }
   },
   "outputs": [
    {
     "data": {
      "text/plain": [
       "(tensor([[0, 1, 2],\n",
       "         [3, 4, 5]]),\n",
       " (tensor([0, 1, 2]), tensor([3, 4, 5])),\n",
       " (tensor([0, 3]), tensor([1, 4]), tensor([2, 5])))"
      ]
     },
     "execution_count": 6,
     "metadata": {},
     "output_type": "execute_result"
    }
   ],
   "source": [
    "# UNBIND\n",
    "t = torch.arange(6).reshape((2,3))\n",
    "t, t.unbind(), t.unbind(1)"
   ]
  },
  {
   "cell_type": "code",
   "execution_count": 7,
   "id": "3def70aa",
   "metadata": {
    "execution": {
     "iopub.execute_input": "2023-03-26T05:39:11.606520Z",
     "iopub.status.busy": "2023-03-26T05:39:11.606454Z",
     "iopub.status.idle": "2023-03-26T05:39:11.608693Z",
     "shell.execute_reply": "2023-03-26T05:39:11.608514Z"
    }
   },
   "outputs": [
    {
     "data": {
      "text/plain": [
       "(tensor([[[ 0,  1],\n",
       "          [ 2,  3],\n",
       "          [ 4,  5]],\n",
       " \n",
       "         [[ 6,  7],\n",
       "          [ 8,  9],\n",
       "          [10, 11]]]),\n",
       " (tensor([[0, 1],\n",
       "          [2, 3],\n",
       "          [4, 5]]),\n",
       "  tensor([[ 6,  7],\n",
       "          [ 8,  9],\n",
       "          [10, 11]])))"
      ]
     },
     "execution_count": 7,
     "metadata": {},
     "output_type": "execute_result"
    }
   ],
   "source": [
    "t2 = torch.arange(12).reshape((2,3,2))\n",
    "t2, t2.unbind()"
   ]
  }
 ],
 "metadata": {
  "kernelspec": {
   "display_name": "Python 3 (ipykernel)",
   "language": "python",
   "name": "python3"
  },
  "language_info": {
   "codemirror_mode": {
    "name": "ipython",
    "version": 3
   },
   "file_extension": ".py",
   "mimetype": "text/x-python",
   "name": "python",
   "nbconvert_exporter": "python",
   "pygments_lexer": "ipython3",
   "version": "3.10.10"
  }
 },
 "nbformat": 4,
 "nbformat_minor": 5
}
