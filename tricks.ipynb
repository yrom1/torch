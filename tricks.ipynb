{
 "cells": [
  {
   "cell_type": "code",
   "execution_count": 1,
   "id": "4bd4e841",
   "metadata": {},
   "outputs": [],
   "source": [
    "import torch"
   ]
  },
  {
   "cell_type": "code",
   "execution_count": 2,
   "id": "35ea60cc",
   "metadata": {},
   "outputs": [
    {
     "data": {
      "text/plain": [
       "'1.13.0'"
      ]
     },
     "execution_count": 2,
     "metadata": {},
     "output_type": "execute_result"
    }
   ],
   "source": [
    "torch.__version__"
   ]
  },
  {
   "cell_type": "code",
   "execution_count": 3,
   "id": "60f71b50",
   "metadata": {
    "scrolled": true
   },
   "outputs": [
    {
     "data": {
      "text/plain": [
       "'3.10.10 (main, Feb 16 2023, 02:49:39) [Clang 14.0.0 (clang-1400.0.29.202)]'"
      ]
     },
     "execution_count": 3,
     "metadata": {},
     "output_type": "execute_result"
    }
   ],
   "source": [
    "from sys import version\n",
    "version"
   ]
  },
  {
   "cell_type": "code",
   "execution_count": 4,
   "id": "5da97497",
   "metadata": {},
   "outputs": [
    {
     "name": "stdout",
     "output_type": "stream",
     "text": [
      "tensor([[-0.0367,  0.1352,  1.4140,  1.1487,  0.0682],\n",
      "        [ 1.5544, -0.1197,  0.5457, -1.3996, -2.5171]])\n",
      "tensor([ 1.5544, -0.1197,  0.5457, -1.3996, -2.5171])\n",
      "tensor([[-0.0367,  0.1352,  1.4140,  1.1487,  0.0682],\n",
      "        [-0.0367,  0.1352,  1.4140,  1.1487,  0.0682],\n",
      "        [ 1.5544, -0.1197,  0.5457, -1.3996, -2.5171]])\n",
      "tensor([[-0.0367,  0.1352,  1.4140,  1.1487,  0.0682],\n",
      "        [ 1.5544, -0.1197,  0.5457, -1.3996, -2.5171],\n",
      "        [ 1.5544, -0.1197,  0.5457, -1.3996, -2.5171]])\n"
     ]
    }
   ],
   "source": [
    "# INDEXING WITH LISTS\n",
    "t = torch.randn((2,5))\n",
    "print(t)\n",
    "print(t[1])\n",
    "print(t[[0,0,1]])\n",
    "\n",
    "# INDEXING WITH TENSORS\n",
    "print(t[torch.tensor([0,1,1])])"
   ]
  },
  {
   "cell_type": "code",
   "execution_count": 15,
   "id": "70467826",
   "metadata": {},
   "outputs": [
    {
     "name": "stdout",
     "output_type": "stream",
     "text": [
      "x:\n",
      " tensor([[ 0,  1,  2,  3],\n",
      "        [ 4,  5,  6,  7],\n",
      "        [ 8,  9, 10, 11]])\n",
      "y:\n",
      " tensor([[0, 2],\n",
      "        [1, 1],\n",
      "        [2, 0]])\n",
      "indexes:\n",
      " tensor([0, 1, 2]) tensor([2, 1, 0])\n",
      "result:\n",
      " tensor([2, 5, 8])\n"
     ]
    }
   ],
   "source": [
    "# INDEXING WITH TENSORS IN MULTIPLE DIMENSIONS\n",
    "# https://youtu.be/TCH_1BHY58I?t=1028\n",
    "x = torch.arange(12).reshape(3, 4)\n",
    "print(\"x:\\n\", x)\n",
    "\n",
    "y = torch.tensor([[0, 2], [1, 1], [2, 0]])\n",
    "print(\"y:\\n\", y)\n",
    "\n",
    "print(\"indexes:\\n\", y[:, 0], y[:, 1])\n",
    "result = x[y[:, 0], y[:, 1]]\n",
    "print(\"result:\\n\", result) # do you see it?"
   ]
  },
  {
   "cell_type": "code",
   "execution_count": 31,
   "id": "35ae5052",
   "metadata": {
    "scrolled": true
   },
   "outputs": [
    {
     "data": {
      "text/plain": [
       "(torch.Size([27, 2]), torch.Size([32, 3]), torch.Size([32, 3, 2]))"
      ]
     },
     "execution_count": 31,
     "metadata": {},
     "output_type": "execute_result"
    }
   ],
   "source": [
    "# more fun example from karpathy\n",
    "C = torch.randn((27,2))\n",
    "X = torch.arange(32*3).reshape((32,3)) % 27 # thank you chatgpt for the % 27\n",
    "C.shape, X.shape, C[X].shape\n",
    "# if you understand this, you can explain why the % 27 is needed"
   ]
  }
 ],
 "metadata": {
  "kernelspec": {
   "display_name": "Python 3 (ipykernel)",
   "language": "python",
   "name": "python3"
  },
  "language_info": {
   "codemirror_mode": {
    "name": "ipython",
    "version": 3
   },
   "file_extension": ".py",
   "mimetype": "text/x-python",
   "name": "python",
   "nbconvert_exporter": "python",
   "pygments_lexer": "ipython3",
   "version": "3.10.10"
  }
 },
 "nbformat": 4,
 "nbformat_minor": 5
}
